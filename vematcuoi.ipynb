{
 "cells": [
  {
   "cell_type": "code",
   "execution_count": 1,
   "id": "a7fe7f16",
   "metadata": {},
   "outputs": [],
   "source": [
    "import turtle"
   ]
  },
  {
   "cell_type": "code",
   "execution_count": 2,
   "id": "6f362a08",
   "metadata": {},
   "outputs": [],
   "source": [
    "t=turtle.Turtle()"
   ]
  },
  {
   "cell_type": "code",
   "execution_count": 3,
   "id": "f9747467",
   "metadata": {},
   "outputs": [],
   "source": [
    "# thiết lập bút"
   ]
  },
  {
   "cell_type": "code",
   "execution_count": 4,
   "id": "075896bd",
   "metadata": {},
   "outputs": [],
   "source": [
    "t.pensize(5)"
   ]
  },
  {
   "cell_type": "code",
   "execution_count": 5,
   "id": "b12b9392",
   "metadata": {},
   "outputs": [],
   "source": [
    "t.color(\"green\")"
   ]
  },
  {
   "cell_type": "code",
   "execution_count": 6,
   "id": "95f43c8d",
   "metadata": {},
   "outputs": [],
   "source": [
    "# vẽ mặt bự"
   ]
  },
  {
   "cell_type": "code",
   "execution_count": 7,
   "id": "bbfab5aa",
   "metadata": {},
   "outputs": [],
   "source": [
    "facesize=100"
   ]
  },
  {
   "cell_type": "code",
   "execution_count": 8,
   "id": "272aa506",
   "metadata": {},
   "outputs": [],
   "source": [
    "t.begin_fill()"
   ]
  },
  {
   "cell_type": "code",
   "execution_count": 9,
   "id": "a0c15020",
   "metadata": {},
   "outputs": [],
   "source": [
    "t.circle(facesize)"
   ]
  },
  {
   "cell_type": "code",
   "execution_count": 10,
   "id": "c563c028",
   "metadata": {},
   "outputs": [],
   "source": [
    "t.end_fill()"
   ]
  },
  {
   "cell_type": "code",
   "execution_count": 11,
   "id": "7f21e3b6",
   "metadata": {},
   "outputs": [],
   "source": [
    "# Vẽ 2 mắt"
   ]
  },
  {
   "cell_type": "code",
   "execution_count": 12,
   "id": "aa705a67",
   "metadata": {},
   "outputs": [],
   "source": [
    "t.penup()"
   ]
  },
  {
   "cell_type": "code",
   "execution_count": 13,
   "id": "a71bbf0a",
   "metadata": {},
   "outputs": [],
   "source": [
    "t.goto(-50,150)"
   ]
  },
  {
   "cell_type": "code",
   "execution_count": 19,
   "id": "963221f8",
   "metadata": {},
   "outputs": [],
   "source": [
    "t.pencolor(\"yellow\")"
   ]
  },
  {
   "cell_type": "code",
   "execution_count": 20,
   "id": "e157f288",
   "metadata": {},
   "outputs": [],
   "source": [
    "t.dot(40)"
   ]
  },
  {
   "cell_type": "code",
   "execution_count": 21,
   "id": "945ad10b",
   "metadata": {},
   "outputs": [],
   "source": [
    "t.penup()"
   ]
  },
  {
   "cell_type": "code",
   "execution_count": 22,
   "id": "bbcd8100",
   "metadata": {},
   "outputs": [],
   "source": [
    "t.goto(50,150)"
   ]
  },
  {
   "cell_type": "code",
   "execution_count": 23,
   "id": "c1080458",
   "metadata": {},
   "outputs": [],
   "source": [
    "t.pendown()"
   ]
  },
  {
   "cell_type": "code",
   "execution_count": 24,
   "id": "58b60c8b",
   "metadata": {},
   "outputs": [],
   "source": [
    "t.dot(40)"
   ]
  },
  {
   "cell_type": "code",
   "execution_count": 25,
   "id": "7ea2ad0e",
   "metadata": {},
   "outputs": [],
   "source": [
    "# Vẽ mũi"
   ]
  },
  {
   "cell_type": "code",
   "execution_count": 26,
   "id": "32a70076",
   "metadata": {},
   "outputs": [],
   "source": [
    "t.penup()"
   ]
  },
  {
   "cell_type": "code",
   "execution_count": 27,
   "id": "05b0e845",
   "metadata": {},
   "outputs": [],
   "source": [
    "t.goto(0,100)"
   ]
  },
  {
   "cell_type": "code",
   "execution_count": 28,
   "id": "632c6191",
   "metadata": {},
   "outputs": [],
   "source": [
    "t.pendown()"
   ]
  },
  {
   "cell_type": "code",
   "execution_count": 29,
   "id": "b17d0eb6",
   "metadata": {},
   "outputs": [],
   "source": [
    "t.pencolor(\"orange\")"
   ]
  },
  {
   "cell_type": "code",
   "execution_count": 30,
   "id": "95dd3575",
   "metadata": {},
   "outputs": [],
   "source": [
    "t.circle(-20, steps=3)"
   ]
  },
  {
   "cell_type": "code",
   "execution_count": 39,
   "id": "f906deb8",
   "metadata": {},
   "outputs": [],
   "source": [
    "# Vẽ miệng"
   ]
  },
  {
   "cell_type": "code",
   "execution_count": 44,
   "id": "8c509eda",
   "metadata": {},
   "outputs": [],
   "source": [
    "t.goto(-40,50)"
   ]
  },
  {
   "cell_type": "code",
   "execution_count": 45,
   "id": "0384c14c",
   "metadata": {},
   "outputs": [],
   "source": [
    "t.left(180)"
   ]
  },
  {
   "cell_type": "code",
   "execution_count": 46,
   "id": "5363f20d",
   "metadata": {},
   "outputs": [],
   "source": [
    "t.pendown()"
   ]
  },
  {
   "cell_type": "code",
   "execution_count": 47,
   "id": "cbd5466d",
   "metadata": {},
   "outputs": [],
   "source": [
    "t.circle(40,180)"
   ]
  },
  {
   "cell_type": "code",
   "execution_count": null,
   "id": "00354411",
   "metadata": {},
   "outputs": [],
   "source": []
  }
 ],
 "metadata": {
  "kernelspec": {
   "display_name": "Python 3",
   "language": "python",
   "name": "python3"
  },
  "language_info": {
   "codemirror_mode": {
    "name": "ipython",
    "version": 3
   },
   "file_extension": ".py",
   "mimetype": "text/x-python",
   "name": "python",
   "nbconvert_exporter": "python",
   "pygments_lexer": "ipython3",
   "version": "3.8.8"
  }
 },
 "nbformat": 4,
 "nbformat_minor": 5
}
