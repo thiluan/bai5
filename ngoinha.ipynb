{
 "cells": [
  {
   "cell_type": "code",
   "execution_count": 1,
   "id": "cb4c5e72",
   "metadata": {},
   "outputs": [],
   "source": [
    "import turtle\n",
    "import math\n",
    "#tạo background\n",
    "sc=turtle.Screen()\n",
    "sc.bgcolor(\"aqua\")\n",
    "t=turtle.Turtle()\n",
    "# Định dạng bút\n",
    "t.pensize(5)\n",
    "t.fillcolor(\"brown\")\n",
    "# vẽ than cây\n",
    "t.penup()\n",
    "t.goto(100,-150)\n",
    "t.pendown()\n",
    "t.begin_fill()\n",
    "for i in range(2):\n",
    "    t.forward(20)\n",
    "    t.left(90)\n",
    "    t.forward(30)\n",
    "    t.left(90)\n",
    "t.end_fill()  \n",
    "# ve la cay\n",
    "t.penup()\n",
    "t.goto(80,-120)\n",
    "t.pendown()\n",
    "t.fillcolor(\"green\")\n",
    "t.begin_fill()\n",
    "for i in range(3):\n",
    "    t.forward(60)\n",
    "    t.left(120)\n",
    "t.end_fill()   \n",
    "t.penup()\n",
    "t.goto(80,-66)\n",
    "t.pendown()\n",
    "t.fillcolor(\"green\")\n",
    "t.begin_fill()\n",
    "for i in range(3):\n",
    "    t.forward(60)\n",
    "    t.left(120)\n",
    "t.end_fill()    \n",
    "t.penup()\n",
    "t.goto(80,-12)\n",
    "t.pendown()\n",
    "t.fillcolor(\"green\")\n",
    "t.begin_fill()\n",
    "for i in range(3):\n",
    "    t.forward(60)\n",
    "    t.left(120)\n",
    "t.end_fill()"
   ]
  },
  {
   "cell_type": "code",
   "execution_count": 2,
   "id": "b34a4318",
   "metadata": {},
   "outputs": [],
   "source": [
    "# ve mat troi\n",
    "t.penup()\n",
    "t.goto(100,150)\n",
    "t.pendown()\n",
    "t.forward(80)\n",
    "for i in range(3):\n",
    "    t.backward(40)\n",
    "    t.left(90)\n",
    "    t.forward(40)\n",
    "t.backward(40)\n",
    "t.left(45)\n",
    "for i in range(4):\n",
    "    t.forward(80)\n",
    "    t.backward(80)\n",
    "    t.left(90)\n",
    "t.color(\"yellow\")\n",
    "t.dot(60)"
   ]
  },
  {
   "cell_type": "code",
   "execution_count": 3,
   "id": "a9974f0a",
   "metadata": {},
   "outputs": [],
   "source": [
    "# vẽ nhà\n",
    "t.penup()\n",
    "t.goto(-250,-150)\n",
    "t.left(45)\n",
    "t.pendown()\n",
    "t.fillcolor(\"blue\")\n",
    "t.begin_fill()\n",
    "for i in range(2):\n",
    "    t.forward(150)\n",
    "    t.left(90)\n",
    "    t.forward(250)\n",
    "    t.left(90)\n",
    "t.end_fill()    \n",
    "t.goto(-200,-150)\n",
    "t.fillcolor(\"orange\")\n",
    "t.begin_fill()\n",
    "for i in range(2):\n",
    "    t.forward(50)\n",
    "    t.left(90)\n",
    "    t.forward(100)\n",
    "    t.left(90)\n",
    "t.end_fill()    \n",
    "t.goto(-100,-150)"
   ]
  },
  {
   "cell_type": "code",
   "execution_count": 4,
   "id": "f344dee4",
   "metadata": {},
   "outputs": [],
   "source": [
    "#vẽ hình bình hành\n",
    "t.fillcolor(\"red\")\n",
    "t.begin_fill()\n",
    "t.left(30)\n",
    "t.forward(150)\n",
    "t.left(60)\n",
    "t.forward(250)\n",
    "t.left(120)\n",
    "t.forward(150)\n",
    "t.left(60)\n",
    "t.forward(250)\n",
    "t.left(90)\n",
    "t.end_fill()"
   ]
  },
  {
   "cell_type": "code",
   "execution_count": 5,
   "id": "5c4ac40e",
   "metadata": {},
   "outputs": [],
   "source": [
    "# vẽ mái nhà\n",
    "t.penup()\n",
    "t.goto(-100,100)\n",
    "t.pendown()\n",
    "t.fillcolor(\"grey\")"
   ]
  },
  {
   "cell_type": "code",
   "execution_count": 6,
   "id": "b174b2e3",
   "metadata": {},
   "outputs": [],
   "source": [
    "t.begin_fill()\n",
    "t.left(120)\n",
    "t.forward(150)"
   ]
  },
  {
   "cell_type": "code",
   "execution_count": 7,
   "id": "81745b75",
   "metadata": {},
   "outputs": [],
   "source": [
    "t.left(120)\n",
    "t.forward(150)"
   ]
  },
  {
   "cell_type": "code",
   "execution_count": 8,
   "id": "99ad2c09",
   "metadata": {},
   "outputs": [],
   "source": [
    "t.end_fill()"
   ]
  },
  {
   "cell_type": "code",
   "execution_count": 9,
   "id": "1d8680a2",
   "metadata": {},
   "outputs": [],
   "source": [
    "t.left(120)"
   ]
  },
  {
   "cell_type": "code",
   "execution_count": 10,
   "id": "f9d83325",
   "metadata": {},
   "outputs": [],
   "source": [
    "t.forward(150)"
   ]
  },
  {
   "cell_type": "code",
   "execution_count": 11,
   "id": "c78fbfd5",
   "metadata": {},
   "outputs": [],
   "source": [
    "t.left(30)"
   ]
  },
  {
   "cell_type": "code",
   "execution_count": 12,
   "id": "9590d58e",
   "metadata": {},
   "outputs": [],
   "source": [
    "t.fillcolor(\"orange\")\n",
    "t.begin_fill()\n",
    "t.forward(150)\n",
    "t.left(90)\n",
    "t.forward(150)\n",
    "t.left(90)\n",
    "t.forward(150)\n",
    "t.left(90)\n",
    "t.forward(150)\n",
    "t.end_fill()"
   ]
  },
  {
   "cell_type": "code",
   "execution_count": 13,
   "id": "077e0b04",
   "metadata": {},
   "outputs": [],
   "source": [
    "#cửa sổ\n",
    "t.fillcolor(\"yellow\")\n",
    "t.penup()\n",
    "t.goto(-50,50)"
   ]
  },
  {
   "cell_type": "code",
   "execution_count": 14,
   "id": "3dd964e1",
   "metadata": {},
   "outputs": [],
   "source": [
    "t.right(30)"
   ]
  },
  {
   "cell_type": "code",
   "execution_count": 15,
   "id": "54fe23a3",
   "metadata": {},
   "outputs": [],
   "source": [
    "t.pendown()"
   ]
  },
  {
   "cell_type": "code",
   "execution_count": 16,
   "id": "eaf0d304",
   "metadata": {},
   "outputs": [],
   "source": [
    "t.begin_fill()\n",
    "t.forward(50)\n",
    "t.left(120)\n",
    "t.forward(50)"
   ]
  },
  {
   "cell_type": "code",
   "execution_count": 19,
   "id": "68ae3c93",
   "metadata": {},
   "outputs": [],
   "source": [
    "t.left(60)"
   ]
  },
  {
   "cell_type": "code",
   "execution_count": 20,
   "id": "f6d5a6f1",
   "metadata": {},
   "outputs": [],
   "source": [
    "t.forward(50)"
   ]
  },
  {
   "cell_type": "code",
   "execution_count": 21,
   "id": "23790fb9",
   "metadata": {},
   "outputs": [],
   "source": [
    "t.left(120)"
   ]
  },
  {
   "cell_type": "code",
   "execution_count": 22,
   "id": "d870b3c6",
   "metadata": {},
   "outputs": [],
   "source": [
    "t.forward(50)"
   ]
  },
  {
   "cell_type": "code",
   "execution_count": null,
   "id": "9bf05b91",
   "metadata": {},
   "outputs": [],
   "source": [
    "t.end_fil"
   ]
  }
 ],
 "metadata": {
  "kernelspec": {
   "display_name": "Python 3",
   "language": "python",
   "name": "python3"
  },
  "language_info": {
   "codemirror_mode": {
    "name": "ipython",
    "version": 3
   },
   "file_extension": ".py",
   "mimetype": "text/x-python",
   "name": "python",
   "nbconvert_exporter": "python",
   "pygments_lexer": "ipython3",
   "version": "3.8.8"
  }
 },
 "nbformat": 4,
 "nbformat_minor": 5
}
