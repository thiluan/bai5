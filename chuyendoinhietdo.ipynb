{
 "cells": [
  {
   "cell_type": "code",
   "execution_count": 2,
   "id": "aed1968f",
   "metadata": {},
   "outputs": [
    {
     "name": "stdout",
     "output_type": "stream",
     "text": [
      "Nhập giá trị dộ C: 45\n",
      "Kết quả độ F là:  113.0\n",
      "<class 'float'>\n"
     ]
    }
   ],
   "source": [
    "C=input(\"Nhập giá trị dộ C: \")\n",
    "F=(9*(int(C))/5+32)\n",
    "print(\"Kết quả độ F là: \",F)\n",
    "print(type(F))"
   ]
  },
  {
   "cell_type": "code",
   "execution_count": null,
   "id": "37b1095d",
   "metadata": {},
   "outputs": [],
   "source": []
  }
 ],
 "metadata": {
  "kernelspec": {
   "display_name": "Python 3",
   "language": "python",
   "name": "python3"
  },
  "language_info": {
   "codemirror_mode": {
    "name": "ipython",
    "version": 3
   },
   "file_extension": ".py",
   "mimetype": "text/x-python",
   "name": "python",
   "nbconvert_exporter": "python",
   "pygments_lexer": "ipython3",
   "version": "3.8.8"
  }
 },
 "nbformat": 4,
 "nbformat_minor": 5
}
