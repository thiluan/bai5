{
 "cells": [
  {
   "cell_type": "code",
   "execution_count": 20,
   "id": "3bf669d1",
   "metadata": {},
   "outputs": [],
   "source": [
    "import math"
   ]
  },
  {
   "cell_type": "code",
   "execution_count": 28,
   "id": "c3ee3ed7",
   "metadata": {},
   "outputs": [
    {
     "name": "stdout",
     "output_type": "stream",
     "text": [
      "nhập giá trị cạnh a: 5\n",
      "nhập giá trị cạnh b: 6\n",
      "nhập giá trị cạnh b: 8\n",
      "nữa chu vi tam giac la:  9.5 # diện tích tam giác là:  14.981238266578634\n",
      "<class 'float'> <class 'float'>\n"
     ]
    }
   ],
   "source": [
    "a=float(input(\"nhập giá trị cạnh a: \"))\n",
    "b=float(input(\"nhập giá trị cạnh b: \"))\n",
    "c=float(input(\"nhập giá trị cạnh b: \"))\n",
    "p=(a+b+c)/2 #nữa chu vi tam giác\n",
    "s=math.sqrt(p*(p-a)*(p-b)*(p-c))\n",
    "print(\"nữa chu vi tam giac la: \",p,\"#\",\"diện tích tam giác là: \",s)\n",
    "print(type(p),type(s))"
   ]
  },
  {
   "cell_type": "code",
   "execution_count": null,
   "id": "2e55186f",
   "metadata": {},
   "outputs": [],
   "source": []
  }
 ],
 "metadata": {
  "kernelspec": {
   "display_name": "Python 3",
   "language": "python",
   "name": "python3"
  },
  "language_info": {
   "codemirror_mode": {
    "name": "ipython",
    "version": 3
   },
   "file_extension": ".py",
   "mimetype": "text/x-python",
   "name": "python",
   "nbconvert_exporter": "python",
   "pygments_lexer": "ipython3",
   "version": "3.8.8"
  }
 },
 "nbformat": 4,
 "nbformat_minor": 5
}
